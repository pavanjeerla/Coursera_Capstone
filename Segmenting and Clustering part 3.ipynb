{
    "cells": [
        {
            "cell_type": "code",
            "execution_count": 2,
            "metadata": {},
            "outputs": [
                {
                    "name": "stdout",
                    "output_type": "stream",
                    "text": "Solving environment: done\n\n## Package Plan ##\n\n  environment location: /opt/conda/envs/Python36\n\n  added / updated specs: \n    - folium=0.5.0\n\n\nThe following packages will be downloaded:\n\n    package                    |            build\n    ---------------------------|-----------------\n    branca-0.4.1               |             py_0          26 KB  conda-forge\n    vincent-0.4.4              |             py_1          28 KB  conda-forge\n    openssl-1.1.1g             |       h516909a_0         2.1 MB  conda-forge\n    ca-certificates-2020.4.5.2 |       hecda079_0         147 KB  conda-forge\n    altair-4.1.0               |             py_1         614 KB  conda-forge\n    folium-0.5.0               |             py_0          45 KB  conda-forge\n    python_abi-3.6             |          1_cp36m           4 KB  conda-forge\n    certifi-2020.4.5.2         |   py36h9f0ad1d_0         152 KB  conda-forge\n    ------------------------------------------------------------\n                                           Total:         3.1 MB\n\nThe following NEW packages will be INSTALLED:\n\n    altair:          4.1.0-py_1        conda-forge\n    branca:          0.4.1-py_0        conda-forge\n    folium:          0.5.0-py_0        conda-forge\n    python_abi:      3.6-1_cp36m       conda-forge\n    vincent:         0.4.4-py_1        conda-forge\n\nThe following packages will be UPDATED:\n\n    ca-certificates: 2020.1.1-0                    --> 2020.4.5.2-hecda079_0     conda-forge\n    certifi:         2020.4.5.1-py36_0             --> 2020.4.5.2-py36h9f0ad1d_0 conda-forge\n    openssl:         1.1.1g-h7b6447c_0             --> 1.1.1g-h516909a_0         conda-forge\n\n\nDownloading and Extracting Packages\nbranca-0.4.1         | 26 KB     | ##################################### | 100% \nvincent-0.4.4        | 28 KB     | ##################################### | 100% \nopenssl-1.1.1g       | 2.1 MB    | ##################################### | 100% \nca-certificates-2020 | 147 KB    | ##################################### | 100% \naltair-4.1.0         | 614 KB    | ##################################### | 100% \nfolium-0.5.0         | 45 KB     | ##################################### | 100% \npython_abi-3.6       | 4 KB      | ##################################### | 100% \ncertifi-2020.4.5.2   | 152 KB    | ##################################### | 100% \nPreparing transaction: done\nVerifying transaction: done\nExecuting transaction: done\nLibraries imported.\n"
                }
            ],
            "source": "import pandas as pd\nimport numpy as np\nimport requests\nfrom bs4 import BeautifulSoup\nimport os\nfrom sklearn.cluster import KMeans\n!conda install -c conda-forge folium=0.5.0 --yes\nimport folium \nfrom geopy.geocoders import Nominatim \nimport matplotlib.cm as cm\nimport matplotlib.colors as colors\n\n\nprint('Libraries imported.')"
        },
        {
            "cell_type": "code",
            "execution_count": 3,
            "metadata": {},
            "outputs": [],
            "source": "List_url='https://en.wikipedia.org/wiki/List_of_postal_codes_of_Canada:_M'\nsource = requests.get(List_url).text"
        },
        {
            "cell_type": "code",
            "execution_count": 4,
            "metadata": {},
            "outputs": [],
            "source": "soup = BeautifulSoup(source, 'xml')\ntable=soup.find('table')\ncolumn_names=['Postalcode','Borough','Neighborhood']\ndf = pd.DataFrame(columns=column_names)"
        },
        {
            "cell_type": "code",
            "execution_count": 5,
            "metadata": {},
            "outputs": [],
            "source": "for tr_cell in table.find_all('tr'):\n    row_data=[]\n    for td_cell in tr_cell.find_all('td'):\n        row_data.append(td_cell.text.strip())\n    if len(row_data)==3:\n        df.loc[len(df)] = row_data\n        df.head()"
        },
        {
            "cell_type": "code",
            "execution_count": 6,
            "metadata": {},
            "outputs": [],
            "source": "df=df[df['Borough']!='Not assigned']"
        },
        {
            "cell_type": "code",
            "execution_count": 7,
            "metadata": {},
            "outputs": [
                {
                    "ename": "ValueError",
                    "evalue": "cannot set using a list-like indexer with a different length than the value",
                    "output_type": "error",
                    "traceback": [
                        "\u001b[0;31m---------------------------------------------------------------------------\u001b[0m",
                        "\u001b[0;31mValueError\u001b[0m                                Traceback (most recent call last)",
                        "\u001b[0;32m<ipython-input-7-9e253f9463a9>\u001b[0m in \u001b[0;36m<module>\u001b[0;34m\u001b[0m\n\u001b[0;32m----> 1\u001b[0;31m \u001b[0mdf\u001b[0m\u001b[0;34m[\u001b[0m\u001b[0mdf\u001b[0m\u001b[0;34m[\u001b[0m\u001b[0;34m'Neighborhood'\u001b[0m\u001b[0;34m]\u001b[0m\u001b[0;34m==\u001b[0m\u001b[0;34m'Not assigned'\u001b[0m\u001b[0;34m]\u001b[0m\u001b[0;34m=\u001b[0m\u001b[0mdf\u001b[0m\u001b[0;34m[\u001b[0m\u001b[0;34m'Borough'\u001b[0m\u001b[0;34m]\u001b[0m\u001b[0;34m\u001b[0m\u001b[0;34m\u001b[0m\u001b[0m\n\u001b[0m",
                        "\u001b[0;32m/opt/conda/envs/Python36/lib/python3.6/site-packages/pandas/core/frame.py\u001b[0m in \u001b[0;36m__setitem__\u001b[0;34m(self, key, value)\u001b[0m\n\u001b[1;32m   3365\u001b[0m             \u001b[0mself\u001b[0m\u001b[0;34m.\u001b[0m\u001b[0m_setitem_frame\u001b[0m\u001b[0;34m(\u001b[0m\u001b[0mkey\u001b[0m\u001b[0;34m,\u001b[0m \u001b[0mvalue\u001b[0m\u001b[0;34m)\u001b[0m\u001b[0;34m\u001b[0m\u001b[0;34m\u001b[0m\u001b[0m\n\u001b[1;32m   3366\u001b[0m         \u001b[0;32melif\u001b[0m \u001b[0misinstance\u001b[0m\u001b[0;34m(\u001b[0m\u001b[0mkey\u001b[0m\u001b[0;34m,\u001b[0m \u001b[0;34m(\u001b[0m\u001b[0mSeries\u001b[0m\u001b[0;34m,\u001b[0m \u001b[0mnp\u001b[0m\u001b[0;34m.\u001b[0m\u001b[0mndarray\u001b[0m\u001b[0;34m,\u001b[0m \u001b[0mlist\u001b[0m\u001b[0;34m,\u001b[0m \u001b[0mIndex\u001b[0m\u001b[0;34m)\u001b[0m\u001b[0;34m)\u001b[0m\u001b[0;34m:\u001b[0m\u001b[0;34m\u001b[0m\u001b[0;34m\u001b[0m\u001b[0m\n\u001b[0;32m-> 3367\u001b[0;31m             \u001b[0mself\u001b[0m\u001b[0;34m.\u001b[0m\u001b[0m_setitem_array\u001b[0m\u001b[0;34m(\u001b[0m\u001b[0mkey\u001b[0m\u001b[0;34m,\u001b[0m \u001b[0mvalue\u001b[0m\u001b[0;34m)\u001b[0m\u001b[0;34m\u001b[0m\u001b[0;34m\u001b[0m\u001b[0m\n\u001b[0m\u001b[1;32m   3368\u001b[0m         \u001b[0;32melse\u001b[0m\u001b[0;34m:\u001b[0m\u001b[0;34m\u001b[0m\u001b[0;34m\u001b[0m\u001b[0m\n\u001b[1;32m   3369\u001b[0m             \u001b[0;31m# set column\u001b[0m\u001b[0;34m\u001b[0m\u001b[0;34m\u001b[0m\u001b[0;34m\u001b[0m\u001b[0m\n",
                        "\u001b[0;32m/opt/conda/envs/Python36/lib/python3.6/site-packages/pandas/core/frame.py\u001b[0m in \u001b[0;36m_setitem_array\u001b[0;34m(self, key, value)\u001b[0m\n\u001b[1;32m   3383\u001b[0m             \u001b[0mindexer\u001b[0m \u001b[0;34m=\u001b[0m \u001b[0mkey\u001b[0m\u001b[0;34m.\u001b[0m\u001b[0mnonzero\u001b[0m\u001b[0;34m(\u001b[0m\u001b[0;34m)\u001b[0m\u001b[0;34m[\u001b[0m\u001b[0;36m0\u001b[0m\u001b[0;34m]\u001b[0m\u001b[0;34m\u001b[0m\u001b[0;34m\u001b[0m\u001b[0m\n\u001b[1;32m   3384\u001b[0m             \u001b[0mself\u001b[0m\u001b[0;34m.\u001b[0m\u001b[0m_check_setitem_copy\u001b[0m\u001b[0;34m(\u001b[0m\u001b[0;34m)\u001b[0m\u001b[0;34m\u001b[0m\u001b[0;34m\u001b[0m\u001b[0m\n\u001b[0;32m-> 3385\u001b[0;31m             \u001b[0mself\u001b[0m\u001b[0;34m.\u001b[0m\u001b[0mloc\u001b[0m\u001b[0;34m.\u001b[0m\u001b[0m_setitem_with_indexer\u001b[0m\u001b[0;34m(\u001b[0m\u001b[0mindexer\u001b[0m\u001b[0;34m,\u001b[0m \u001b[0mvalue\u001b[0m\u001b[0;34m)\u001b[0m\u001b[0;34m\u001b[0m\u001b[0;34m\u001b[0m\u001b[0m\n\u001b[0m\u001b[1;32m   3386\u001b[0m         \u001b[0;32melse\u001b[0m\u001b[0;34m:\u001b[0m\u001b[0;34m\u001b[0m\u001b[0;34m\u001b[0m\u001b[0m\n\u001b[1;32m   3387\u001b[0m             \u001b[0;32mif\u001b[0m \u001b[0misinstance\u001b[0m\u001b[0;34m(\u001b[0m\u001b[0mvalue\u001b[0m\u001b[0;34m,\u001b[0m \u001b[0mDataFrame\u001b[0m\u001b[0;34m)\u001b[0m\u001b[0;34m:\u001b[0m\u001b[0;34m\u001b[0m\u001b[0;34m\u001b[0m\u001b[0m\n",
                        "\u001b[0;32m/opt/conda/envs/Python36/lib/python3.6/site-packages/pandas/core/indexing.py\u001b[0m in \u001b[0;36m_setitem_with_indexer\u001b[0;34m(self, indexer, value)\u001b[0m\n\u001b[1;32m    654\u001b[0m             \u001b[0mself\u001b[0m\u001b[0;34m.\u001b[0m\u001b[0mobj\u001b[0m\u001b[0;34m.\u001b[0m\u001b[0m_consolidate_inplace\u001b[0m\u001b[0;34m(\u001b[0m\u001b[0;34m)\u001b[0m\u001b[0;34m\u001b[0m\u001b[0;34m\u001b[0m\u001b[0m\n\u001b[1;32m    655\u001b[0m             self.obj._data = self.obj._data.setitem(indexer=indexer,\n\u001b[0;32m--> 656\u001b[0;31m                                                     value=value)\n\u001b[0m\u001b[1;32m    657\u001b[0m             \u001b[0mself\u001b[0m\u001b[0;34m.\u001b[0m\u001b[0mobj\u001b[0m\u001b[0;34m.\u001b[0m\u001b[0m_maybe_update_cacher\u001b[0m\u001b[0;34m(\u001b[0m\u001b[0mclear\u001b[0m\u001b[0;34m=\u001b[0m\u001b[0;32mTrue\u001b[0m\u001b[0;34m)\u001b[0m\u001b[0;34m\u001b[0m\u001b[0;34m\u001b[0m\u001b[0m\n\u001b[1;32m    658\u001b[0m \u001b[0;34m\u001b[0m\u001b[0m\n",
                        "\u001b[0;32m/opt/conda/envs/Python36/lib/python3.6/site-packages/pandas/core/internals/managers.py\u001b[0m in \u001b[0;36msetitem\u001b[0;34m(self, **kwargs)\u001b[0m\n\u001b[1;32m    508\u001b[0m \u001b[0;34m\u001b[0m\u001b[0m\n\u001b[1;32m    509\u001b[0m     \u001b[0;32mdef\u001b[0m \u001b[0msetitem\u001b[0m\u001b[0;34m(\u001b[0m\u001b[0mself\u001b[0m\u001b[0;34m,\u001b[0m \u001b[0;34m**\u001b[0m\u001b[0mkwargs\u001b[0m\u001b[0;34m)\u001b[0m\u001b[0;34m:\u001b[0m\u001b[0;34m\u001b[0m\u001b[0;34m\u001b[0m\u001b[0m\n\u001b[0;32m--> 510\u001b[0;31m         \u001b[0;32mreturn\u001b[0m \u001b[0mself\u001b[0m\u001b[0;34m.\u001b[0m\u001b[0mapply\u001b[0m\u001b[0;34m(\u001b[0m\u001b[0;34m'setitem'\u001b[0m\u001b[0;34m,\u001b[0m \u001b[0;34m**\u001b[0m\u001b[0mkwargs\u001b[0m\u001b[0;34m)\u001b[0m\u001b[0;34m\u001b[0m\u001b[0;34m\u001b[0m\u001b[0m\n\u001b[0m\u001b[1;32m    511\u001b[0m \u001b[0;34m\u001b[0m\u001b[0m\n\u001b[1;32m    512\u001b[0m     \u001b[0;32mdef\u001b[0m \u001b[0mputmask\u001b[0m\u001b[0;34m(\u001b[0m\u001b[0mself\u001b[0m\u001b[0;34m,\u001b[0m \u001b[0;34m**\u001b[0m\u001b[0mkwargs\u001b[0m\u001b[0;34m)\u001b[0m\u001b[0;34m:\u001b[0m\u001b[0;34m\u001b[0m\u001b[0;34m\u001b[0m\u001b[0m\n",
                        "\u001b[0;32m/opt/conda/envs/Python36/lib/python3.6/site-packages/pandas/core/internals/managers.py\u001b[0m in \u001b[0;36mapply\u001b[0;34m(self, f, axes, filter, do_integrity_check, consolidate, **kwargs)\u001b[0m\n\u001b[1;32m    393\u001b[0m                                             copy=align_copy)\n\u001b[1;32m    394\u001b[0m \u001b[0;34m\u001b[0m\u001b[0m\n\u001b[0;32m--> 395\u001b[0;31m             \u001b[0mapplied\u001b[0m \u001b[0;34m=\u001b[0m \u001b[0mgetattr\u001b[0m\u001b[0;34m(\u001b[0m\u001b[0mb\u001b[0m\u001b[0;34m,\u001b[0m \u001b[0mf\u001b[0m\u001b[0;34m)\u001b[0m\u001b[0;34m(\u001b[0m\u001b[0;34m**\u001b[0m\u001b[0mkwargs\u001b[0m\u001b[0;34m)\u001b[0m\u001b[0;34m\u001b[0m\u001b[0;34m\u001b[0m\u001b[0m\n\u001b[0m\u001b[1;32m    396\u001b[0m             \u001b[0mresult_blocks\u001b[0m \u001b[0;34m=\u001b[0m \u001b[0m_extend_blocks\u001b[0m\u001b[0;34m(\u001b[0m\u001b[0mapplied\u001b[0m\u001b[0;34m,\u001b[0m \u001b[0mresult_blocks\u001b[0m\u001b[0;34m)\u001b[0m\u001b[0;34m\u001b[0m\u001b[0;34m\u001b[0m\u001b[0m\n\u001b[1;32m    397\u001b[0m \u001b[0;34m\u001b[0m\u001b[0m\n",
                        "\u001b[0;32m/opt/conda/envs/Python36/lib/python3.6/site-packages/pandas/core/internals/blocks.py\u001b[0m in \u001b[0;36msetitem\u001b[0;34m(self, indexer, value)\u001b[0m\n\u001b[1;32m    870\u001b[0m \u001b[0;34m\u001b[0m\u001b[0m\n\u001b[1;32m    871\u001b[0m         \u001b[0;31m# length checking\u001b[0m\u001b[0;34m\u001b[0m\u001b[0;34m\u001b[0m\u001b[0;34m\u001b[0m\u001b[0m\n\u001b[0;32m--> 872\u001b[0;31m         \u001b[0mcheck_setitem_lengths\u001b[0m\u001b[0;34m(\u001b[0m\u001b[0mindexer\u001b[0m\u001b[0;34m,\u001b[0m \u001b[0mvalue\u001b[0m\u001b[0;34m,\u001b[0m \u001b[0mvalues\u001b[0m\u001b[0;34m)\u001b[0m\u001b[0;34m\u001b[0m\u001b[0;34m\u001b[0m\u001b[0m\n\u001b[0m\u001b[1;32m    873\u001b[0m \u001b[0;34m\u001b[0m\u001b[0m\n\u001b[1;32m    874\u001b[0m         \u001b[0;32mdef\u001b[0m \u001b[0m_is_scalar_indexer\u001b[0m\u001b[0;34m(\u001b[0m\u001b[0mindexer\u001b[0m\u001b[0;34m)\u001b[0m\u001b[0;34m:\u001b[0m\u001b[0;34m\u001b[0m\u001b[0;34m\u001b[0m\u001b[0m\n",
                        "\u001b[0;32m/opt/conda/envs/Python36/lib/python3.6/site-packages/pandas/core/indexing.py\u001b[0m in \u001b[0;36mcheck_setitem_lengths\u001b[0;34m(indexer, value, values)\u001b[0m\n\u001b[1;32m   2532\u001b[0m                     \u001b[0mindexer\u001b[0m\u001b[0;34m.\u001b[0m\u001b[0mdtype\u001b[0m \u001b[0;34m==\u001b[0m \u001b[0mnp\u001b[0m\u001b[0;34m.\u001b[0m\u001b[0mbool_\u001b[0m \u001b[0;32mand\u001b[0m\u001b[0;34m\u001b[0m\u001b[0;34m\u001b[0m\u001b[0m\n\u001b[1;32m   2533\u001b[0m                     len(indexer[indexer]) == len(value)):\n\u001b[0;32m-> 2534\u001b[0;31m                 raise ValueError(\"cannot set using a list-like indexer \"\n\u001b[0m\u001b[1;32m   2535\u001b[0m                                  \"with a different length than the value\")\n\u001b[1;32m   2536\u001b[0m     \u001b[0;31m# slice\u001b[0m\u001b[0;34m\u001b[0m\u001b[0;34m\u001b[0m\u001b[0;34m\u001b[0m\u001b[0m\n",
                        "\u001b[0;31mValueError\u001b[0m: cannot set using a list-like indexer with a different length than the value"
                    ]
                }
            ],
            "source": "df[df['Neighborhood']=='Not assigned']=df['Borough']"
        },
        {
            "cell_type": "code",
            "execution_count": 8,
            "metadata": {},
            "outputs": [
                {
                    "data": {
                        "text/html": "<div>\n<style scoped>\n    .dataframe tbody tr th:only-of-type {\n        vertical-align: middle;\n    }\n\n    .dataframe tbody tr th {\n        vertical-align: top;\n    }\n\n    .dataframe thead th {\n        text-align: right;\n    }\n</style>\n<table border=\"1\" class=\"dataframe\">\n  <thead>\n    <tr style=\"text-align: right;\">\n      <th></th>\n      <th>Postalcode</th>\n      <th>Borough</th>\n      <th>Neighborhood</th>\n    </tr>\n  </thead>\n  <tbody>\n    <tr>\n      <th>2</th>\n      <td>M3A</td>\n      <td>North York</td>\n      <td>Parkwoods</td>\n    </tr>\n    <tr>\n      <th>3</th>\n      <td>M4A</td>\n      <td>North York</td>\n      <td>Victoria Village</td>\n    </tr>\n    <tr>\n      <th>4</th>\n      <td>M5A</td>\n      <td>Downtown Toronto</td>\n      <td>Regent Park, Harbourfront</td>\n    </tr>\n    <tr>\n      <th>5</th>\n      <td>M6A</td>\n      <td>North York</td>\n      <td>Lawrence Manor, Lawrence Heights</td>\n    </tr>\n    <tr>\n      <th>6</th>\n      <td>M7A</td>\n      <td>Downtown Toronto</td>\n      <td>Queen's Park, Ontario Provincial Government</td>\n    </tr>\n  </tbody>\n</table>\n</div>",
                        "text/plain": "  Postalcode           Borough                                 Neighborhood\n2        M3A        North York                                    Parkwoods\n3        M4A        North York                             Victoria Village\n4        M5A  Downtown Toronto                    Regent Park, Harbourfront\n5        M6A        North York             Lawrence Manor, Lawrence Heights\n6        M7A  Downtown Toronto  Queen's Park, Ontario Provincial Government"
                    },
                    "execution_count": 8,
                    "metadata": {},
                    "output_type": "execute_result"
                }
            ],
            "source": "df.head()"
        },
        {
            "cell_type": "code",
            "execution_count": 9,
            "metadata": {},
            "outputs": [],
            "source": "temp_df=df.groupby('Postalcode')['Neighborhood'].apply(lambda x: \"%s\" % ', '.join(x))\ntemp_df=temp_df.reset_index(drop=False)\ntemp_df.rename(columns={'Neighborhood':'Neighborhood_joined'},inplace=True)"
        },
        {
            "cell_type": "code",
            "execution_count": 10,
            "metadata": {},
            "outputs": [],
            "source": "df_merge = pd.merge(df, temp_df, on='Postalcode')"
        },
        {
            "cell_type": "code",
            "execution_count": 11,
            "metadata": {},
            "outputs": [],
            "source": "df_merge.drop(['Neighborhood'],axis=1,inplace=True)"
        },
        {
            "cell_type": "code",
            "execution_count": 12,
            "metadata": {},
            "outputs": [],
            "source": "df_merge.drop_duplicates(inplace=True)"
        },
        {
            "cell_type": "code",
            "execution_count": 13,
            "metadata": {},
            "outputs": [],
            "source": "df_merge.rename(columns={'Neighborhood_joined':'Neighborhood'},inplace=True)"
        },
        {
            "cell_type": "code",
            "execution_count": 14,
            "metadata": {},
            "outputs": [
                {
                    "data": {
                        "text/html": "<div>\n<style scoped>\n    .dataframe tbody tr th:only-of-type {\n        vertical-align: middle;\n    }\n\n    .dataframe tbody tr th {\n        vertical-align: top;\n    }\n\n    .dataframe thead th {\n        text-align: right;\n    }\n</style>\n<table border=\"1\" class=\"dataframe\">\n  <thead>\n    <tr style=\"text-align: right;\">\n      <th></th>\n      <th>Postalcode</th>\n      <th>Borough</th>\n      <th>Neighborhood</th>\n    </tr>\n  </thead>\n  <tbody>\n    <tr>\n      <th>0</th>\n      <td>M3A</td>\n      <td>North York</td>\n      <td>Parkwoods</td>\n    </tr>\n    <tr>\n      <th>1</th>\n      <td>M4A</td>\n      <td>North York</td>\n      <td>Victoria Village</td>\n    </tr>\n    <tr>\n      <th>2</th>\n      <td>M5A</td>\n      <td>Downtown Toronto</td>\n      <td>Regent Park, Harbourfront</td>\n    </tr>\n    <tr>\n      <th>3</th>\n      <td>M6A</td>\n      <td>North York</td>\n      <td>Lawrence Manor, Lawrence Heights</td>\n    </tr>\n    <tr>\n      <th>4</th>\n      <td>M7A</td>\n      <td>Downtown Toronto</td>\n      <td>Queen's Park, Ontario Provincial Government</td>\n    </tr>\n  </tbody>\n</table>\n</div>",
                        "text/plain": "  Postalcode           Borough                                 Neighborhood\n0        M3A        North York                                    Parkwoods\n1        M4A        North York                             Victoria Village\n2        M5A  Downtown Toronto                    Regent Park, Harbourfront\n3        M6A        North York             Lawrence Manor, Lawrence Heights\n4        M7A  Downtown Toronto  Queen's Park, Ontario Provincial Government"
                    },
                    "execution_count": 14,
                    "metadata": {},
                    "output_type": "execute_result"
                }
            ],
            "source": "df_merge.head()"
        },
        {
            "cell_type": "code",
            "execution_count": 15,
            "metadata": {},
            "outputs": [
                {
                    "data": {
                        "text/plain": "(103, 3)"
                    },
                    "execution_count": 15,
                    "metadata": {},
                    "output_type": "execute_result"
                }
            ],
            "source": "df_merge.shape"
        },
        {
            "cell_type": "code",
            "execution_count": 16,
            "metadata": {},
            "outputs": [],
            "source": "geo_df=pd.read_csv('http://cocl.us/Geospatial_data')"
        },
        {
            "cell_type": "code",
            "execution_count": 17,
            "metadata": {},
            "outputs": [
                {
                    "data": {
                        "text/html": "<div>\n<style scoped>\n    .dataframe tbody tr th:only-of-type {\n        vertical-align: middle;\n    }\n\n    .dataframe tbody tr th {\n        vertical-align: top;\n    }\n\n    .dataframe thead th {\n        text-align: right;\n    }\n</style>\n<table border=\"1\" class=\"dataframe\">\n  <thead>\n    <tr style=\"text-align: right;\">\n      <th></th>\n      <th>Postal Code</th>\n      <th>Latitude</th>\n      <th>Longitude</th>\n    </tr>\n  </thead>\n  <tbody>\n    <tr>\n      <th>0</th>\n      <td>M1B</td>\n      <td>43.806686</td>\n      <td>-79.194353</td>\n    </tr>\n    <tr>\n      <th>1</th>\n      <td>M1C</td>\n      <td>43.784535</td>\n      <td>-79.160497</td>\n    </tr>\n    <tr>\n      <th>2</th>\n      <td>M1E</td>\n      <td>43.763573</td>\n      <td>-79.188711</td>\n    </tr>\n    <tr>\n      <th>3</th>\n      <td>M1G</td>\n      <td>43.770992</td>\n      <td>-79.216917</td>\n    </tr>\n    <tr>\n      <th>4</th>\n      <td>M1H</td>\n      <td>43.773136</td>\n      <td>-79.239476</td>\n    </tr>\n  </tbody>\n</table>\n</div>",
                        "text/plain": "  Postal Code   Latitude  Longitude\n0         M1B  43.806686 -79.194353\n1         M1C  43.784535 -79.160497\n2         M1E  43.763573 -79.188711\n3         M1G  43.770992 -79.216917\n4         M1H  43.773136 -79.239476"
                    },
                    "execution_count": 17,
                    "metadata": {},
                    "output_type": "execute_result"
                }
            ],
            "source": "geo_df.head()"
        },
        {
            "cell_type": "code",
            "execution_count": 18,
            "metadata": {},
            "outputs": [],
            "source": "geo_df.rename(columns={'Postal Code':'Postalcode'},inplace=True)\ngeo_merged = pd.merge(geo_df, df_merge, on='Postalcode')"
        },
        {
            "cell_type": "code",
            "execution_count": 19,
            "metadata": {},
            "outputs": [
                {
                    "data": {
                        "text/html": "<div>\n<style scoped>\n    .dataframe tbody tr th:only-of-type {\n        vertical-align: middle;\n    }\n\n    .dataframe tbody tr th {\n        vertical-align: top;\n    }\n\n    .dataframe thead th {\n        text-align: right;\n    }\n</style>\n<table border=\"1\" class=\"dataframe\">\n  <thead>\n    <tr style=\"text-align: right;\">\n      <th></th>\n      <th>Postalcode</th>\n      <th>Latitude</th>\n      <th>Longitude</th>\n      <th>Borough</th>\n      <th>Neighborhood</th>\n    </tr>\n  </thead>\n  <tbody>\n    <tr>\n      <th>0</th>\n      <td>M1B</td>\n      <td>43.806686</td>\n      <td>-79.194353</td>\n      <td>Scarborough</td>\n      <td>Malvern, Rouge</td>\n    </tr>\n    <tr>\n      <th>1</th>\n      <td>M1C</td>\n      <td>43.784535</td>\n      <td>-79.160497</td>\n      <td>Scarborough</td>\n      <td>Rouge Hill, Port Union, Highland Creek</td>\n    </tr>\n    <tr>\n      <th>2</th>\n      <td>M1E</td>\n      <td>43.763573</td>\n      <td>-79.188711</td>\n      <td>Scarborough</td>\n      <td>Guildwood, Morningside, West Hill</td>\n    </tr>\n    <tr>\n      <th>3</th>\n      <td>M1G</td>\n      <td>43.770992</td>\n      <td>-79.216917</td>\n      <td>Scarborough</td>\n      <td>Woburn</td>\n    </tr>\n    <tr>\n      <th>4</th>\n      <td>M1H</td>\n      <td>43.773136</td>\n      <td>-79.239476</td>\n      <td>Scarborough</td>\n      <td>Cedarbrae</td>\n    </tr>\n  </tbody>\n</table>\n</div>",
                        "text/plain": "  Postalcode   Latitude  Longitude      Borough  \\\n0        M1B  43.806686 -79.194353  Scarborough   \n1        M1C  43.784535 -79.160497  Scarborough   \n2        M1E  43.763573 -79.188711  Scarborough   \n3        M1G  43.770992 -79.216917  Scarborough   \n4        M1H  43.773136 -79.239476  Scarborough   \n\n                             Neighborhood  \n0                          Malvern, Rouge  \n1  Rouge Hill, Port Union, Highland Creek  \n2       Guildwood, Morningside, West Hill  \n3                                  Woburn  \n4                               Cedarbrae  "
                    },
                    "execution_count": 19,
                    "metadata": {},
                    "output_type": "execute_result"
                }
            ],
            "source": "geo_merged.head()"
        },
        {
            "cell_type": "code",
            "execution_count": 20,
            "metadata": {},
            "outputs": [
                {
                    "data": {
                        "text/html": "<div>\n<style scoped>\n    .dataframe tbody tr th:only-of-type {\n        vertical-align: middle;\n    }\n\n    .dataframe tbody tr th {\n        vertical-align: top;\n    }\n\n    .dataframe thead th {\n        text-align: right;\n    }\n</style>\n<table border=\"1\" class=\"dataframe\">\n  <thead>\n    <tr style=\"text-align: right;\">\n      <th></th>\n      <th>Postalcode</th>\n      <th>Borough</th>\n      <th>Neighborhood</th>\n      <th>Latitude</th>\n      <th>Longitude</th>\n    </tr>\n  </thead>\n  <tbody>\n    <tr>\n      <th>0</th>\n      <td>M1B</td>\n      <td>Scarborough</td>\n      <td>Malvern, Rouge</td>\n      <td>43.806686</td>\n      <td>-79.194353</td>\n    </tr>\n    <tr>\n      <th>1</th>\n      <td>M1C</td>\n      <td>Scarborough</td>\n      <td>Rouge Hill, Port Union, Highland Creek</td>\n      <td>43.784535</td>\n      <td>-79.160497</td>\n    </tr>\n    <tr>\n      <th>2</th>\n      <td>M1E</td>\n      <td>Scarborough</td>\n      <td>Guildwood, Morningside, West Hill</td>\n      <td>43.763573</td>\n      <td>-79.188711</td>\n    </tr>\n    <tr>\n      <th>3</th>\n      <td>M1G</td>\n      <td>Scarborough</td>\n      <td>Woburn</td>\n      <td>43.770992</td>\n      <td>-79.216917</td>\n    </tr>\n    <tr>\n      <th>4</th>\n      <td>M1H</td>\n      <td>Scarborough</td>\n      <td>Cedarbrae</td>\n      <td>43.773136</td>\n      <td>-79.239476</td>\n    </tr>\n  </tbody>\n</table>\n</div>",
                        "text/plain": "  Postalcode      Borough                            Neighborhood   Latitude  \\\n0        M1B  Scarborough                          Malvern, Rouge  43.806686   \n1        M1C  Scarborough  Rouge Hill, Port Union, Highland Creek  43.784535   \n2        M1E  Scarborough       Guildwood, Morningside, West Hill  43.763573   \n3        M1G  Scarborough                                  Woburn  43.770992   \n4        M1H  Scarborough                               Cedarbrae  43.773136   \n\n   Longitude  \n0 -79.194353  \n1 -79.160497  \n2 -79.188711  \n3 -79.216917  \n4 -79.239476  "
                    },
                    "execution_count": 20,
                    "metadata": {},
                    "output_type": "execute_result"
                }
            ],
            "source": "geo_data=geo_merged[['Postalcode','Borough','Neighborhood','Latitude','Longitude']]\ngeo_data.head()"
        },
        {
            "cell_type": "code",
            "execution_count": 21,
            "metadata": {},
            "outputs": [
                {
                    "data": {
                        "text/html": "<div>\n<style scoped>\n    .dataframe tbody tr th:only-of-type {\n        vertical-align: middle;\n    }\n\n    .dataframe tbody tr th {\n        vertical-align: top;\n    }\n\n    .dataframe thead th {\n        text-align: right;\n    }\n</style>\n<table border=\"1\" class=\"dataframe\">\n  <thead>\n    <tr style=\"text-align: right;\">\n      <th></th>\n      <th>Postalcode</th>\n      <th>Borough</th>\n      <th>Neighborhood</th>\n      <th>Latitude</th>\n      <th>Longitude</th>\n    </tr>\n  </thead>\n  <tbody>\n    <tr>\n      <th>37</th>\n      <td>M4E</td>\n      <td>East Toronto</td>\n      <td>The Beaches</td>\n      <td>43.676357</td>\n      <td>-79.293031</td>\n    </tr>\n    <tr>\n      <th>41</th>\n      <td>M4K</td>\n      <td>East Toronto</td>\n      <td>The Danforth West, Riverdale</td>\n      <td>43.679557</td>\n      <td>-79.352188</td>\n    </tr>\n    <tr>\n      <th>42</th>\n      <td>M4L</td>\n      <td>East Toronto</td>\n      <td>India Bazaar, The Beaches West</td>\n      <td>43.668999</td>\n      <td>-79.315572</td>\n    </tr>\n    <tr>\n      <th>43</th>\n      <td>M4M</td>\n      <td>East Toronto</td>\n      <td>Studio District</td>\n      <td>43.659526</td>\n      <td>-79.340923</td>\n    </tr>\n    <tr>\n      <th>44</th>\n      <td>M4N</td>\n      <td>Central Toronto</td>\n      <td>Lawrence Park</td>\n      <td>43.728020</td>\n      <td>-79.388790</td>\n    </tr>\n  </tbody>\n</table>\n</div>",
                        "text/plain": "   Postalcode          Borough                    Neighborhood   Latitude  \\\n37        M4E     East Toronto                     The Beaches  43.676357   \n41        M4K     East Toronto    The Danforth West, Riverdale  43.679557   \n42        M4L     East Toronto  India Bazaar, The Beaches West  43.668999   \n43        M4M     East Toronto                 Studio District  43.659526   \n44        M4N  Central Toronto                   Lawrence Park  43.728020   \n\n    Longitude  \n37 -79.293031  \n41 -79.352188  \n42 -79.315572  \n43 -79.340923  \n44 -79.388790  "
                    },
                    "execution_count": 21,
                    "metadata": {},
                    "output_type": "execute_result"
                }
            ],
            "source": "toronto_data=geo_data[geo_data['Borough'].str.contains(\"Toronto\")]\ntoronto_data.head()"
        },
        {
            "cell_type": "code",
            "execution_count": 22,
            "metadata": {},
            "outputs": [],
            "source": "CLIENT_ID = 'OKFFYI1HOEXV113OEYJNHCB5UGF3FVRWUCMMONOMOC4UUZNQ' \nCLIENT_SECRET = 'UQ22A54KRERHAMJZ3P2W335XD5EZJJA5WRAV1WII2SW43VN2' \nVERSION = '20190611'"
        },
        {
            "cell_type": "code",
            "execution_count": 23,
            "metadata": {},
            "outputs": [],
            "source": "def getNearbyVenues(names, latitudes, longitudes):\n    radius=500\n    LIMIT=100\n    venues_list=[]\n    for name, lat, lng in zip(names, latitudes, longitudes):\n        print(name)\n            \n        # create the API request URL\n        url = 'https://api.foursquare.com/v2/venues/explore?&client_id={}&client_secret={}&v={}&ll={},{}&radius={}&limit={}'.format(\n            CLIENT_ID, \n            CLIENT_SECRET, \n            VERSION, \n            lat, \n            lng, \n            radius, \n            LIMIT)\n            \n        # make the GET request\n        results = requests.get(url).json()[\"response\"]['groups'][0]['items']\n        \n        # return only relevant information for each nearby venue\n        venues_list.append([(\n            name, \n            lat, \n            lng, \n            v['venue']['name'], \n            v['venue']['location']['lat'], \n            v['venue']['location']['lng'],  \n            v['venue']['categories'][0]['name']) for v in results])\n\n    nearby_venues = pd.DataFrame([item for venue_list in venues_list for item in venue_list])\n    nearby_venues.columns = ['Neighborhood', \n                  'Neighborhood Latitude', \n                  'Neighborhood Longitude', \n                  'Venue', \n                  'Venue Latitude', \n                  'Venue Longitude', \n                  'Venue Category']\n    \n    return(nearby_venues)"
        },
        {
            "cell_type": "code",
            "execution_count": 24,
            "metadata": {},
            "outputs": [
                {
                    "name": "stdout",
                    "output_type": "stream",
                    "text": "The Beaches\nThe Danforth West, Riverdale\nIndia Bazaar, The Beaches West\nStudio District\nLawrence Park\nDavisville North\nNorth Toronto West,  Lawrence Park\nDavisville\nMoore Park, Summerhill East\nSummerhill West, Rathnelly, South Hill, Forest Hill SE, Deer Park\nRosedale\nSt. James Town, Cabbagetown\nChurch and Wellesley\nRegent Park, Harbourfront\nGarden District, Ryerson\nSt. James Town\nBerczy Park\nCentral Bay Street\nRichmond, Adelaide, King\nHarbourfront East, Union Station, Toronto Islands\nToronto Dominion Centre, Design Exchange\nCommerce Court, Victoria Hotel\nRoselawn\nForest Hill North & West, Forest Hill Road Park\nThe Annex, North Midtown, Yorkville\nUniversity of Toronto, Harbord\nKensington Market, Chinatown, Grange Park\nCN Tower, King and Spadina, Railway Lands, Harbourfront West, Bathurst Quay, South Niagara, Island airport\nStn A PO Boxes\nFirst Canadian Place, Underground city\nChristie\nDufferin, Dovercourt Village\nLittle Portugal, Trinity\nBrockton, Parkdale Village, Exhibition Place\nHigh Park, The Junction South\nParkdale, Roncesvalles\nRunnymede, Swansea\nQueen's Park, Ontario Provincial Government\nBusiness reply mail Processing Centre, South Central Letter Processing Plant Toronto\n"
                }
            ],
            "source": "toronto_venues = getNearbyVenues(names=toronto_data['Neighborhood'],\n                                   latitudes=toronto_data['Latitude'],\n                                   longitudes=toronto_data['Longitude']\n                                  )"
        },
        {
            "cell_type": "code",
            "execution_count": 25,
            "metadata": {},
            "outputs": [
                {
                    "data": {
                        "text/html": "<div>\n<style scoped>\n    .dataframe tbody tr th:only-of-type {\n        vertical-align: middle;\n    }\n\n    .dataframe tbody tr th {\n        vertical-align: top;\n    }\n\n    .dataframe thead th {\n        text-align: right;\n    }\n</style>\n<table border=\"1\" class=\"dataframe\">\n  <thead>\n    <tr style=\"text-align: right;\">\n      <th></th>\n      <th>Neighborhood</th>\n      <th>Neighborhood Latitude</th>\n      <th>Neighborhood Longitude</th>\n      <th>Venue</th>\n      <th>Venue Latitude</th>\n      <th>Venue Longitude</th>\n      <th>Venue Category</th>\n    </tr>\n  </thead>\n  <tbody>\n    <tr>\n      <th>0</th>\n      <td>The Beaches</td>\n      <td>43.676357</td>\n      <td>-79.293031</td>\n      <td>Glen Manor Ravine</td>\n      <td>43.676821</td>\n      <td>-79.293942</td>\n      <td>Trail</td>\n    </tr>\n    <tr>\n      <th>1</th>\n      <td>The Beaches</td>\n      <td>43.676357</td>\n      <td>-79.293031</td>\n      <td>The Big Carrot Natural Food Market</td>\n      <td>43.678879</td>\n      <td>-79.297734</td>\n      <td>Health Food Store</td>\n    </tr>\n    <tr>\n      <th>2</th>\n      <td>The Beaches</td>\n      <td>43.676357</td>\n      <td>-79.293031</td>\n      <td>Grover Pub and Grub</td>\n      <td>43.679181</td>\n      <td>-79.297215</td>\n      <td>Pub</td>\n    </tr>\n    <tr>\n      <th>3</th>\n      <td>The Beaches</td>\n      <td>43.676357</td>\n      <td>-79.293031</td>\n      <td>Upper Beaches</td>\n      <td>43.680563</td>\n      <td>-79.292869</td>\n      <td>Neighborhood</td>\n    </tr>\n    <tr>\n      <th>4</th>\n      <td>The Danforth West, Riverdale</td>\n      <td>43.679557</td>\n      <td>-79.352188</td>\n      <td>MenEssentials</td>\n      <td>43.677820</td>\n      <td>-79.351265</td>\n      <td>Cosmetics Shop</td>\n    </tr>\n  </tbody>\n</table>\n</div>",
                        "text/plain": "                   Neighborhood  Neighborhood Latitude  \\\n0                   The Beaches              43.676357   \n1                   The Beaches              43.676357   \n2                   The Beaches              43.676357   \n3                   The Beaches              43.676357   \n4  The Danforth West, Riverdale              43.679557   \n\n   Neighborhood Longitude                               Venue  Venue Latitude  \\\n0              -79.293031                   Glen Manor Ravine       43.676821   \n1              -79.293031  The Big Carrot Natural Food Market       43.678879   \n2              -79.293031                 Grover Pub and Grub       43.679181   \n3              -79.293031                       Upper Beaches       43.680563   \n4              -79.352188                       MenEssentials       43.677820   \n\n   Venue Longitude     Venue Category  \n0       -79.293942              Trail  \n1       -79.297734  Health Food Store  \n2       -79.297215                Pub  \n3       -79.292869       Neighborhood  \n4       -79.351265     Cosmetics Shop  "
                    },
                    "execution_count": 25,
                    "metadata": {},
                    "output_type": "execute_result"
                }
            ],
            "source": "toronto_venues.head()"
        },
        {
            "cell_type": "code",
            "execution_count": 26,
            "metadata": {},
            "outputs": [
                {
                    "data": {
                        "text/html": "<div>\n<style scoped>\n    .dataframe tbody tr th:only-of-type {\n        vertical-align: middle;\n    }\n\n    .dataframe tbody tr th {\n        vertical-align: top;\n    }\n\n    .dataframe thead th {\n        text-align: right;\n    }\n</style>\n<table border=\"1\" class=\"dataframe\">\n  <thead>\n    <tr style=\"text-align: right;\">\n      <th></th>\n      <th>Neighborhood Latitude</th>\n      <th>Neighborhood Longitude</th>\n      <th>Venue</th>\n      <th>Venue Latitude</th>\n      <th>Venue Longitude</th>\n      <th>Venue Category</th>\n    </tr>\n    <tr>\n      <th>Neighborhood</th>\n      <th></th>\n      <th></th>\n      <th></th>\n      <th></th>\n      <th></th>\n      <th></th>\n    </tr>\n  </thead>\n  <tbody>\n    <tr>\n      <th>Berczy Park</th>\n      <td>56</td>\n      <td>56</td>\n      <td>56</td>\n      <td>56</td>\n      <td>56</td>\n      <td>56</td>\n    </tr>\n    <tr>\n      <th>Brockton, Parkdale Village, Exhibition Place</th>\n      <td>23</td>\n      <td>23</td>\n      <td>23</td>\n      <td>23</td>\n      <td>23</td>\n      <td>23</td>\n    </tr>\n    <tr>\n      <th>Business reply mail Processing Centre, South Central Letter Processing Plant Toronto</th>\n      <td>16</td>\n      <td>16</td>\n      <td>16</td>\n      <td>16</td>\n      <td>16</td>\n      <td>16</td>\n    </tr>\n    <tr>\n      <th>CN Tower, King and Spadina, Railway Lands, Harbourfront West, Bathurst Quay, South Niagara, Island airport</th>\n      <td>18</td>\n      <td>18</td>\n      <td>18</td>\n      <td>18</td>\n      <td>18</td>\n      <td>18</td>\n    </tr>\n    <tr>\n      <th>Central Bay Street</th>\n      <td>65</td>\n      <td>65</td>\n      <td>65</td>\n      <td>65</td>\n      <td>65</td>\n      <td>65</td>\n    </tr>\n    <tr>\n      <th>Christie</th>\n      <td>16</td>\n      <td>16</td>\n      <td>16</td>\n      <td>16</td>\n      <td>16</td>\n      <td>16</td>\n    </tr>\n    <tr>\n      <th>Church and Wellesley</th>\n      <td>78</td>\n      <td>78</td>\n      <td>78</td>\n      <td>78</td>\n      <td>78</td>\n      <td>78</td>\n    </tr>\n    <tr>\n      <th>Commerce Court, Victoria Hotel</th>\n      <td>100</td>\n      <td>100</td>\n      <td>100</td>\n      <td>100</td>\n      <td>100</td>\n      <td>100</td>\n    </tr>\n    <tr>\n      <th>Davisville</th>\n      <td>31</td>\n      <td>31</td>\n      <td>31</td>\n      <td>31</td>\n      <td>31</td>\n      <td>31</td>\n    </tr>\n    <tr>\n      <th>Davisville North</th>\n      <td>9</td>\n      <td>9</td>\n      <td>9</td>\n      <td>9</td>\n      <td>9</td>\n      <td>9</td>\n    </tr>\n    <tr>\n      <th>Dufferin, Dovercourt Village</th>\n      <td>15</td>\n      <td>15</td>\n      <td>15</td>\n      <td>15</td>\n      <td>15</td>\n      <td>15</td>\n    </tr>\n    <tr>\n      <th>First Canadian Place, Underground city</th>\n      <td>100</td>\n      <td>100</td>\n      <td>100</td>\n      <td>100</td>\n      <td>100</td>\n      <td>100</td>\n    </tr>\n    <tr>\n      <th>Forest Hill North &amp; West, Forest Hill Road Park</th>\n      <td>4</td>\n      <td>4</td>\n      <td>4</td>\n      <td>4</td>\n      <td>4</td>\n      <td>4</td>\n    </tr>\n    <tr>\n      <th>Garden District, Ryerson</th>\n      <td>100</td>\n      <td>100</td>\n      <td>100</td>\n      <td>100</td>\n      <td>100</td>\n      <td>100</td>\n    </tr>\n    <tr>\n      <th>Harbourfront East, Union Station, Toronto Islands</th>\n      <td>100</td>\n      <td>100</td>\n      <td>100</td>\n      <td>100</td>\n      <td>100</td>\n      <td>100</td>\n    </tr>\n    <tr>\n      <th>High Park, The Junction South</th>\n      <td>23</td>\n      <td>23</td>\n      <td>23</td>\n      <td>23</td>\n      <td>23</td>\n      <td>23</td>\n    </tr>\n    <tr>\n      <th>India Bazaar, The Beaches West</th>\n      <td>21</td>\n      <td>21</td>\n      <td>21</td>\n      <td>21</td>\n      <td>21</td>\n      <td>21</td>\n    </tr>\n    <tr>\n      <th>Kensington Market, Chinatown, Grange Park</th>\n      <td>60</td>\n      <td>60</td>\n      <td>60</td>\n      <td>60</td>\n      <td>60</td>\n      <td>60</td>\n    </tr>\n    <tr>\n      <th>Lawrence Park</th>\n      <td>3</td>\n      <td>3</td>\n      <td>3</td>\n      <td>3</td>\n      <td>3</td>\n      <td>3</td>\n    </tr>\n    <tr>\n      <th>Little Portugal, Trinity</th>\n      <td>45</td>\n      <td>45</td>\n      <td>45</td>\n      <td>45</td>\n      <td>45</td>\n      <td>45</td>\n    </tr>\n    <tr>\n      <th>Moore Park, Summerhill East</th>\n      <td>2</td>\n      <td>2</td>\n      <td>2</td>\n      <td>2</td>\n      <td>2</td>\n      <td>2</td>\n    </tr>\n    <tr>\n      <th>North Toronto West,  Lawrence Park</th>\n      <td>19</td>\n      <td>19</td>\n      <td>19</td>\n      <td>19</td>\n      <td>19</td>\n      <td>19</td>\n    </tr>\n    <tr>\n      <th>Parkdale, Roncesvalles</th>\n      <td>14</td>\n      <td>14</td>\n      <td>14</td>\n      <td>14</td>\n      <td>14</td>\n      <td>14</td>\n    </tr>\n    <tr>\n      <th>Queen's Park, Ontario Provincial Government</th>\n      <td>32</td>\n      <td>32</td>\n      <td>32</td>\n      <td>32</td>\n      <td>32</td>\n      <td>32</td>\n    </tr>\n    <tr>\n      <th>Regent Park, Harbourfront</th>\n      <td>46</td>\n      <td>46</td>\n      <td>46</td>\n      <td>46</td>\n      <td>46</td>\n      <td>46</td>\n    </tr>\n    <tr>\n      <th>Richmond, Adelaide, King</th>\n      <td>95</td>\n      <td>95</td>\n      <td>95</td>\n      <td>95</td>\n      <td>95</td>\n      <td>95</td>\n    </tr>\n    <tr>\n      <th>Rosedale</th>\n      <td>4</td>\n      <td>4</td>\n      <td>4</td>\n      <td>4</td>\n      <td>4</td>\n      <td>4</td>\n    </tr>\n    <tr>\n      <th>Roselawn</th>\n      <td>3</td>\n      <td>3</td>\n      <td>3</td>\n      <td>3</td>\n      <td>3</td>\n      <td>3</td>\n    </tr>\n    <tr>\n      <th>Runnymede, Swansea</th>\n      <td>38</td>\n      <td>38</td>\n      <td>38</td>\n      <td>38</td>\n      <td>38</td>\n      <td>38</td>\n    </tr>\n    <tr>\n      <th>St. James Town</th>\n      <td>78</td>\n      <td>78</td>\n      <td>78</td>\n      <td>78</td>\n      <td>78</td>\n      <td>78</td>\n    </tr>\n    <tr>\n      <th>St. James Town, Cabbagetown</th>\n      <td>48</td>\n      <td>48</td>\n      <td>48</td>\n      <td>48</td>\n      <td>48</td>\n      <td>48</td>\n    </tr>\n    <tr>\n      <th>Stn A PO Boxes</th>\n      <td>94</td>\n      <td>94</td>\n      <td>94</td>\n      <td>94</td>\n      <td>94</td>\n      <td>94</td>\n    </tr>\n    <tr>\n      <th>Studio District</th>\n      <td>41</td>\n      <td>41</td>\n      <td>41</td>\n      <td>41</td>\n      <td>41</td>\n      <td>41</td>\n    </tr>\n    <tr>\n      <th>Summerhill West, Rathnelly, South Hill, Forest Hill SE, Deer Park</th>\n      <td>17</td>\n      <td>17</td>\n      <td>17</td>\n      <td>17</td>\n      <td>17</td>\n      <td>17</td>\n    </tr>\n    <tr>\n      <th>The Annex, North Midtown, Yorkville</th>\n      <td>22</td>\n      <td>22</td>\n      <td>22</td>\n      <td>22</td>\n      <td>22</td>\n      <td>22</td>\n    </tr>\n    <tr>\n      <th>The Beaches</th>\n      <td>4</td>\n      <td>4</td>\n      <td>4</td>\n      <td>4</td>\n      <td>4</td>\n      <td>4</td>\n    </tr>\n    <tr>\n      <th>The Danforth West, Riverdale</th>\n      <td>43</td>\n      <td>43</td>\n      <td>43</td>\n      <td>43</td>\n      <td>43</td>\n      <td>43</td>\n    </tr>\n    <tr>\n      <th>Toronto Dominion Centre, Design Exchange</th>\n      <td>100</td>\n      <td>100</td>\n      <td>100</td>\n      <td>100</td>\n      <td>100</td>\n      <td>100</td>\n    </tr>\n    <tr>\n      <th>University of Toronto, Harbord</th>\n      <td>35</td>\n      <td>35</td>\n      <td>35</td>\n      <td>35</td>\n      <td>35</td>\n      <td>35</td>\n    </tr>\n  </tbody>\n</table>\n</div>",
                        "text/plain": "                                                    Neighborhood Latitude  \\\nNeighborhood                                                                \nBerczy Park                                                            56   \nBrockton, Parkdale Village, Exhibition Place                           23   \nBusiness reply mail Processing Centre, South Ce...                     16   \nCN Tower, King and Spadina, Railway Lands, Harb...                     18   \nCentral Bay Street                                                     65   \nChristie                                                               16   \nChurch and Wellesley                                                   78   \nCommerce Court, Victoria Hotel                                        100   \nDavisville                                                             31   \nDavisville North                                                        9   \nDufferin, Dovercourt Village                                           15   \nFirst Canadian Place, Underground city                                100   \nForest Hill North & West, Forest Hill Road Park                         4   \nGarden District, Ryerson                                              100   \nHarbourfront East, Union Station, Toronto Islands                     100   \nHigh Park, The Junction South                                          23   \nIndia Bazaar, The Beaches West                                         21   \nKensington Market, Chinatown, Grange Park                              60   \nLawrence Park                                                           3   \nLittle Portugal, Trinity                                               45   \nMoore Park, Summerhill East                                             2   \nNorth Toronto West,  Lawrence Park                                     19   \nParkdale, Roncesvalles                                                 14   \nQueen's Park, Ontario Provincial Government                            32   \nRegent Park, Harbourfront                                              46   \nRichmond, Adelaide, King                                               95   \nRosedale                                                                4   \nRoselawn                                                                3   \nRunnymede, Swansea                                                     38   \nSt. James Town                                                         78   \nSt. James Town, Cabbagetown                                            48   \nStn A PO Boxes                                                         94   \nStudio District                                                        41   \nSummerhill West, Rathnelly, South Hill, Forest ...                     17   \nThe Annex, North Midtown, Yorkville                                    22   \nThe Beaches                                                             4   \nThe Danforth West, Riverdale                                           43   \nToronto Dominion Centre, Design Exchange                              100   \nUniversity of Toronto, Harbord                                         35   \n\n                                                    Neighborhood Longitude  \\\nNeighborhood                                                                 \nBerczy Park                                                             56   \nBrockton, Parkdale Village, Exhibition Place                            23   \nBusiness reply mail Processing Centre, South Ce...                      16   \nCN Tower, King and Spadina, Railway Lands, Harb...                      18   \nCentral Bay Street                                                      65   \nChristie                                                                16   \nChurch and Wellesley                                                    78   \nCommerce Court, Victoria Hotel                                         100   \nDavisville                                                              31   \nDavisville North                                                         9   \nDufferin, Dovercourt Village                                            15   \nFirst Canadian Place, Underground city                                 100   \nForest Hill North & West, Forest Hill Road Park                          4   \nGarden District, Ryerson                                               100   \nHarbourfront East, Union Station, Toronto Islands                      100   \nHigh Park, The Junction South                                           23   \nIndia Bazaar, The Beaches West                                          21   \nKensington Market, Chinatown, Grange Park                               60   \nLawrence Park                                                            3   \nLittle Portugal, Trinity                                                45   \nMoore Park, Summerhill East                                              2   \nNorth Toronto West,  Lawrence Park                                      19   \nParkdale, Roncesvalles                                                  14   \nQueen's Park, Ontario Provincial Government                             32   \nRegent Park, Harbourfront                                               46   \nRichmond, Adelaide, King                                                95   \nRosedale                                                                 4   \nRoselawn                                                                 3   \nRunnymede, Swansea                                                      38   \nSt. James Town                                                          78   \nSt. James Town, Cabbagetown                                             48   \nStn A PO Boxes                                                          94   \nStudio District                                                         41   \nSummerhill West, Rathnelly, South Hill, Forest ...                      17   \nThe Annex, North Midtown, Yorkville                                     22   \nThe Beaches                                                              4   \nThe Danforth West, Riverdale                                            43   \nToronto Dominion Centre, Design Exchange                               100   \nUniversity of Toronto, Harbord                                          35   \n\n                                                    Venue  Venue Latitude  \\\nNeighborhood                                                                \nBerczy Park                                            56              56   \nBrockton, Parkdale Village, Exhibition Place           23              23   \nBusiness reply mail Processing Centre, South Ce...     16              16   \nCN Tower, King and Spadina, Railway Lands, Harb...     18              18   \nCentral Bay Street                                     65              65   \nChristie                                               16              16   \nChurch and Wellesley                                   78              78   \nCommerce Court, Victoria Hotel                        100             100   \nDavisville                                             31              31   \nDavisville North                                        9               9   \nDufferin, Dovercourt Village                           15              15   \nFirst Canadian Place, Underground city                100             100   \nForest Hill North & West, Forest Hill Road Park         4               4   \nGarden District, Ryerson                              100             100   \nHarbourfront East, Union Station, Toronto Islands     100             100   \nHigh Park, The Junction South                          23              23   \nIndia Bazaar, The Beaches West                         21              21   \nKensington Market, Chinatown, Grange Park              60              60   \nLawrence Park                                           3               3   \nLittle Portugal, Trinity                               45              45   \nMoore Park, Summerhill East                             2               2   \nNorth Toronto West,  Lawrence Park                     19              19   \nParkdale, Roncesvalles                                 14              14   \nQueen's Park, Ontario Provincial Government            32              32   \nRegent Park, Harbourfront                              46              46   \nRichmond, Adelaide, King                               95              95   \nRosedale                                                4               4   \nRoselawn                                                3               3   \nRunnymede, Swansea                                     38              38   \nSt. James Town                                         78              78   \nSt. James Town, Cabbagetown                            48              48   \nStn A PO Boxes                                         94              94   \nStudio District                                        41              41   \nSummerhill West, Rathnelly, South Hill, Forest ...     17              17   \nThe Annex, North Midtown, Yorkville                    22              22   \nThe Beaches                                             4               4   \nThe Danforth West, Riverdale                           43              43   \nToronto Dominion Centre, Design Exchange              100             100   \nUniversity of Toronto, Harbord                         35              35   \n\n                                                    Venue Longitude  \\\nNeighborhood                                                          \nBerczy Park                                                      56   \nBrockton, Parkdale Village, Exhibition Place                     23   \nBusiness reply mail Processing Centre, South Ce...               16   \nCN Tower, King and Spadina, Railway Lands, Harb...               18   \nCentral Bay Street                                               65   \nChristie                                                         16   \nChurch and Wellesley                                             78   \nCommerce Court, Victoria Hotel                                  100   \nDavisville                                                       31   \nDavisville North                                                  9   \nDufferin, Dovercourt Village                                     15   \nFirst Canadian Place, Underground city                          100   \nForest Hill North & West, Forest Hill Road Park                   4   \nGarden District, Ryerson                                        100   \nHarbourfront East, Union Station, Toronto Islands               100   \nHigh Park, The Junction South                                    23   \nIndia Bazaar, The Beaches West                                   21   \nKensington Market, Chinatown, Grange Park                        60   \nLawrence Park                                                     3   \nLittle Portugal, Trinity                                         45   \nMoore Park, Summerhill East                                       2   \nNorth Toronto West,  Lawrence Park                               19   \nParkdale, Roncesvalles                                           14   \nQueen's Park, Ontario Provincial Government                      32   \nRegent Park, Harbourfront                                        46   \nRichmond, Adelaide, King                                         95   \nRosedale                                                          4   \nRoselawn                                                          3   \nRunnymede, Swansea                                               38   \nSt. James Town                                                   78   \nSt. James Town, Cabbagetown                                      48   \nStn A PO Boxes                                                   94   \nStudio District                                                  41   \nSummerhill West, Rathnelly, South Hill, Forest ...               17   \nThe Annex, North Midtown, Yorkville                              22   \nThe Beaches                                                       4   \nThe Danforth West, Riverdale                                     43   \nToronto Dominion Centre, Design Exchange                        100   \nUniversity of Toronto, Harbord                                   35   \n\n                                                    Venue Category  \nNeighborhood                                                        \nBerczy Park                                                     56  \nBrockton, Parkdale Village, Exhibition Place                    23  \nBusiness reply mail Processing Centre, South Ce...              16  \nCN Tower, King and Spadina, Railway Lands, Harb...              18  \nCentral Bay Street                                              65  \nChristie                                                        16  \nChurch and Wellesley                                            78  \nCommerce Court, Victoria Hotel                                 100  \nDavisville                                                      31  \nDavisville North                                                 9  \nDufferin, Dovercourt Village                                    15  \nFirst Canadian Place, Underground city                         100  \nForest Hill North & West, Forest Hill Road Park                  4  \nGarden District, Ryerson                                       100  \nHarbourfront East, Union Station, Toronto Islands              100  \nHigh Park, The Junction South                                   23  \nIndia Bazaar, The Beaches West                                  21  \nKensington Market, Chinatown, Grange Park                       60  \nLawrence Park                                                    3  \nLittle Portugal, Trinity                                        45  \nMoore Park, Summerhill East                                      2  \nNorth Toronto West,  Lawrence Park                              19  \nParkdale, Roncesvalles                                          14  \nQueen's Park, Ontario Provincial Government                     32  \nRegent Park, Harbourfront                                       46  \nRichmond, Adelaide, King                                        95  \nRosedale                                                         4  \nRoselawn                                                         3  \nRunnymede, Swansea                                              38  \nSt. James Town                                                  78  \nSt. James Town, Cabbagetown                                     48  \nStn A PO Boxes                                                  94  \nStudio District                                                 41  \nSummerhill West, Rathnelly, South Hill, Forest ...              17  \nThe Annex, North Midtown, Yorkville                             22  \nThe Beaches                                                      4  \nThe Danforth West, Riverdale                                    43  \nToronto Dominion Centre, Design Exchange                       100  \nUniversity of Toronto, Harbord                                  35  "
                    },
                    "execution_count": 26,
                    "metadata": {},
                    "output_type": "execute_result"
                }
            ],
            "source": "toronto_venues.groupby('Neighborhood').count()"
        },
        {
            "cell_type": "code",
            "execution_count": 27,
            "metadata": {},
            "outputs": [
                {
                    "data": {
                        "text/plain": "(1618, 237)"
                    },
                    "execution_count": 27,
                    "metadata": {},
                    "output_type": "execute_result"
                }
            ],
            "source": "toronto_onehot = pd.get_dummies(toronto_venues[['Venue Category']], prefix=\"\", prefix_sep=\"\")\ntoronto_onehot.drop(['Neighborhood'],axis=1,inplace=True) \ntoronto_onehot.insert(loc=0, column='Neighborhood', value=toronto_venues['Neighborhood'] )\ntoronto_onehot.shape"
        },
        {
            "cell_type": "code",
            "execution_count": null,
            "metadata": {},
            "outputs": [
                {
                    "data": {
                        "text/html": "<div>\n<style scoped>\n    .dataframe tbody tr th:only-of-type {\n        vertical-align: middle;\n    }\n\n    .dataframe tbody tr th {\n        vertical-align: top;\n    }\n\n    .dataframe thead th {\n        text-align: right;\n    }\n</style>\n<table border=\"1\" class=\"dataframe\">\n  <thead>\n    <tr style=\"text-align: right;\">\n      <th></th>\n      <th>Neighborhood</th>\n      <th>Afghan Restaurant</th>\n      <th>Airport</th>\n      <th>Airport Food Court</th>\n      <th>Airport Gate</th>\n      <th>Airport Lounge</th>\n      <th>Airport Service</th>\n      <th>Airport Terminal</th>\n      <th>American Restaurant</th>\n      <th>Antique Shop</th>\n      <th>...</th>\n      <th>Trail</th>\n      <th>Train Station</th>\n      <th>Vegetarian / Vegan Restaurant</th>\n      <th>Video Game Store</th>\n      <th>Vietnamese Restaurant</th>\n      <th>Wine Bar</th>\n      <th>Wine Shop</th>\n      <th>Wings Joint</th>\n      <th>Women's Store</th>\n      <th>Yoga Studio</th>\n    </tr>\n  </thead>\n  <tbody>\n    <tr>\n      <th>0</th>\n      <td>Berczy Park</td>\n      <td>0.0</td>\n      <td>0.000000</td>\n      <td>0.000000</td>\n      <td>0.000000</td>\n      <td>0.000000</td>\n      <td>0.000000</td>\n      <td>0.000000</td>\n      <td>0.0</td>\n      <td>0.0</td>\n      <td>...</td>\n      <td>0.0</td>\n      <td>0.0</td>\n      <td>0.017857</td>\n      <td>0.0</td>\n      <td>0.0</td>\n      <td>0.000000</td>\n      <td>0.0</td>\n      <td>0.0</td>\n      <td>0.0</td>\n      <td>0.000000</td>\n    </tr>\n    <tr>\n      <th>1</th>\n      <td>Brockton, Parkdale Village, Exhibition Place</td>\n      <td>0.0</td>\n      <td>0.000000</td>\n      <td>0.000000</td>\n      <td>0.000000</td>\n      <td>0.000000</td>\n      <td>0.000000</td>\n      <td>0.000000</td>\n      <td>0.0</td>\n      <td>0.0</td>\n      <td>...</td>\n      <td>0.0</td>\n      <td>0.0</td>\n      <td>0.000000</td>\n      <td>0.0</td>\n      <td>0.0</td>\n      <td>0.000000</td>\n      <td>0.0</td>\n      <td>0.0</td>\n      <td>0.0</td>\n      <td>0.000000</td>\n    </tr>\n    <tr>\n      <th>2</th>\n      <td>Business reply mail Processing Centre, South C...</td>\n      <td>0.0</td>\n      <td>0.000000</td>\n      <td>0.000000</td>\n      <td>0.000000</td>\n      <td>0.000000</td>\n      <td>0.000000</td>\n      <td>0.000000</td>\n      <td>0.0</td>\n      <td>0.0</td>\n      <td>...</td>\n      <td>0.0</td>\n      <td>0.0</td>\n      <td>0.000000</td>\n      <td>0.0</td>\n      <td>0.0</td>\n      <td>0.000000</td>\n      <td>0.0</td>\n      <td>0.0</td>\n      <td>0.0</td>\n      <td>0.062500</td>\n    </tr>\n    <tr>\n      <th>3</th>\n      <td>CN Tower, King and Spadina, Railway Lands, Har...</td>\n      <td>0.0</td>\n      <td>0.055556</td>\n      <td>0.055556</td>\n      <td>0.055556</td>\n      <td>0.111111</td>\n      <td>0.166667</td>\n      <td>0.111111</td>\n      <td>0.0</td>\n      <td>0.0</td>\n      <td>...</td>\n      <td>0.0</td>\n      <td>0.0</td>\n      <td>0.000000</td>\n      <td>0.0</td>\n      <td>0.0</td>\n      <td>0.000000</td>\n      <td>0.0</td>\n      <td>0.0</td>\n      <td>0.0</td>\n      <td>0.000000</td>\n    </tr>\n    <tr>\n      <th>4</th>\n      <td>Central Bay Street</td>\n      <td>0.0</td>\n      <td>0.000000</td>\n      <td>0.000000</td>\n      <td>0.000000</td>\n      <td>0.000000</td>\n      <td>0.000000</td>\n      <td>0.000000</td>\n      <td>0.0</td>\n      <td>0.0</td>\n      <td>...</td>\n      <td>0.0</td>\n      <td>0.0</td>\n      <td>0.015385</td>\n      <td>0.0</td>\n      <td>0.0</td>\n      <td>0.015385</td>\n      <td>0.0</td>\n      <td>0.0</td>\n      <td>0.0</td>\n      <td>0.015385</td>\n    </tr>\n  </tbody>\n</table>\n<p>5 rows \u00d7 237 columns</p>\n</div>",
                        "text/plain": "                                        Neighborhood  Afghan Restaurant  \\\n0                                        Berczy Park                0.0   \n1       Brockton, Parkdale Village, Exhibition Place                0.0   \n2  Business reply mail Processing Centre, South C...                0.0   \n3  CN Tower, King and Spadina, Railway Lands, Har...                0.0   \n4                                 Central Bay Street                0.0   \n\n    Airport  Airport Food Court  Airport Gate  Airport Lounge  \\\n0  0.000000            0.000000      0.000000        0.000000   \n1  0.000000            0.000000      0.000000        0.000000   \n2  0.000000            0.000000      0.000000        0.000000   \n3  0.055556            0.055556      0.055556        0.111111   \n4  0.000000            0.000000      0.000000        0.000000   \n\n   Airport Service  Airport Terminal  American Restaurant  Antique Shop  ...  \\\n0         0.000000          0.000000                  0.0           0.0  ...   \n1         0.000000          0.000000                  0.0           0.0  ...   \n2         0.000000          0.000000                  0.0           0.0  ...   \n3         0.166667          0.111111                  0.0           0.0  ...   \n4         0.000000          0.000000                  0.0           0.0  ...   \n\n   Trail  Train Station  Vegetarian / Vegan Restaurant  Video Game Store  \\\n0    0.0            0.0                       0.017857               0.0   \n1    0.0            0.0                       0.000000               0.0   \n2    0.0            0.0                       0.000000               0.0   \n3    0.0            0.0                       0.000000               0.0   \n4    0.0            0.0                       0.015385               0.0   \n\n   Vietnamese Restaurant  Wine Bar  Wine Shop  Wings Joint  Women's Store  \\\n0                    0.0  0.000000        0.0          0.0            0.0   \n1                    0.0  0.000000        0.0          0.0            0.0   \n2                    0.0  0.000000        0.0          0.0            0.0   \n3                    0.0  0.000000        0.0          0.0            0.0   \n4                    0.0  0.015385        0.0          0.0            0.0   \n\n   Yoga Studio  \n0     0.000000  \n1     0.000000  \n2     0.062500  \n3     0.000000  \n4     0.015385  \n\n[5 rows x 237 columns]"
                    },
                    "execution_count": 28,
                    "metadata": {},
                    "output_type": "execute_result"
                }
            ],
            "source": "toronto_grouped = toronto_onehot.groupby('Neighborhood').mean().reset_index()\ntoronto_grouped.head()"
        },
        {
            "cell_type": "code",
            "execution_count": null,
            "metadata": {},
            "outputs": [],
            "source": "def return_most_common_venues(row, num_top_venues):\n    row_categories = row.iloc[1:]\n    row_categories_sorted = row_categories.sort_values(ascending=False)\n    \n    return row_categories_sorted.index.values[0:num_top_venues]"
        },
        {
            "cell_type": "code",
            "execution_count": null,
            "metadata": {},
            "outputs": [
                {
                    "data": {
                        "text/html": "<div>\n<style scoped>\n    .dataframe tbody tr th:only-of-type {\n        vertical-align: middle;\n    }\n\n    .dataframe tbody tr th {\n        vertical-align: top;\n    }\n\n    .dataframe thead th {\n        text-align: right;\n    }\n</style>\n<table border=\"1\" class=\"dataframe\">\n  <thead>\n    <tr style=\"text-align: right;\">\n      <th></th>\n      <th>Neighborhood</th>\n      <th>1st Most Common Venue</th>\n      <th>2nd Most Common Venue</th>\n      <th>3rd Most Common Venue</th>\n      <th>4th Most Common Venue</th>\n      <th>5th Most Common Venue</th>\n      <th>6th Most Common Venue</th>\n      <th>7th Most Common Venue</th>\n      <th>8th Most Common Venue</th>\n      <th>9th Most Common Venue</th>\n      <th>10th Most Common Venue</th>\n    </tr>\n  </thead>\n  <tbody>\n    <tr>\n      <th>0</th>\n      <td>Berczy Park</td>\n      <td>Coffee Shop</td>\n      <td>Cocktail Bar</td>\n      <td>Cheese Shop</td>\n      <td>Beer Bar</td>\n      <td>Bakery</td>\n      <td>Seafood Restaurant</td>\n      <td>Restaurant</td>\n      <td>Caf\u00e9</td>\n      <td>Clothing Store</td>\n      <td>Irish Pub</td>\n    </tr>\n    <tr>\n      <th>1</th>\n      <td>Brockton, Parkdale Village, Exhibition Place</td>\n      <td>Caf\u00e9</td>\n      <td>Coffee Shop</td>\n      <td>Breakfast Spot</td>\n      <td>Bakery</td>\n      <td>Gym</td>\n      <td>Stadium</td>\n      <td>Burrito Place</td>\n      <td>Restaurant</td>\n      <td>Climbing Gym</td>\n      <td>Pet Store</td>\n    </tr>\n    <tr>\n      <th>2</th>\n      <td>Business reply mail Processing Centre, South C...</td>\n      <td>Yoga Studio</td>\n      <td>Auto Workshop</td>\n      <td>Park</td>\n      <td>Pizza Place</td>\n      <td>Restaurant</td>\n      <td>Butcher</td>\n      <td>Burrito Place</td>\n      <td>Skate Park</td>\n      <td>Brewery</td>\n      <td>Comic Shop</td>\n    </tr>\n    <tr>\n      <th>3</th>\n      <td>CN Tower, King and Spadina, Railway Lands, Har...</td>\n      <td>Airport Service</td>\n      <td>Airport Lounge</td>\n      <td>Airport Terminal</td>\n      <td>Rental Car Location</td>\n      <td>Harbor / Marina</td>\n      <td>Plane</td>\n      <td>Boat or Ferry</td>\n      <td>Boutique</td>\n      <td>Bar</td>\n      <td>Sculpture Garden</td>\n    </tr>\n    <tr>\n      <th>4</th>\n      <td>Central Bay Street</td>\n      <td>Coffee Shop</td>\n      <td>Caf\u00e9</td>\n      <td>Italian Restaurant</td>\n      <td>Sandwich Place</td>\n      <td>Japanese Restaurant</td>\n      <td>Department Store</td>\n      <td>Salad Place</td>\n      <td>Burger Joint</td>\n      <td>Bubble Tea Shop</td>\n      <td>Indian Restaurant</td>\n    </tr>\n  </tbody>\n</table>\n</div>",
                        "text/plain": "                                        Neighborhood 1st Most Common Venue  \\\n0                                        Berczy Park           Coffee Shop   \n1       Brockton, Parkdale Village, Exhibition Place                  Caf\u00e9   \n2  Business reply mail Processing Centre, South C...           Yoga Studio   \n3  CN Tower, King and Spadina, Railway Lands, Har...       Airport Service   \n4                                 Central Bay Street           Coffee Shop   \n\n  2nd Most Common Venue 3rd Most Common Venue 4th Most Common Venue  \\\n0          Cocktail Bar           Cheese Shop              Beer Bar   \n1           Coffee Shop        Breakfast Spot                Bakery   \n2         Auto Workshop                  Park           Pizza Place   \n3        Airport Lounge      Airport Terminal   Rental Car Location   \n4                  Caf\u00e9    Italian Restaurant        Sandwich Place   \n\n  5th Most Common Venue 6th Most Common Venue 7th Most Common Venue  \\\n0                Bakery    Seafood Restaurant            Restaurant   \n1                   Gym               Stadium         Burrito Place   \n2            Restaurant               Butcher         Burrito Place   \n3       Harbor / Marina                 Plane         Boat or Ferry   \n4   Japanese Restaurant      Department Store           Salad Place   \n\n  8th Most Common Venue 9th Most Common Venue 10th Most Common Venue  \n0                  Caf\u00e9        Clothing Store              Irish Pub  \n1            Restaurant          Climbing Gym              Pet Store  \n2            Skate Park               Brewery             Comic Shop  \n3              Boutique                   Bar       Sculpture Garden  \n4          Burger Joint       Bubble Tea Shop      Indian Restaurant  "
                    },
                    "execution_count": 30,
                    "metadata": {},
                    "output_type": "execute_result"
                }
            ],
            "source": "num_top_venues = 10\n\nindicators = ['st', 'nd', 'rd']\n\n# create columns according to number of top venues\ncolumns = ['Neighborhood']\nfor ind in np.arange(num_top_venues):\n    try:\n        columns.append('{}{} Most Common Venue'.format(ind+1, indicators[ind]))\n    except:\n        columns.append('{}th Most Common Venue'.format(ind+1))\n\n# create a new dataframe\nneighborhoods_venues_sorted = pd.DataFrame(columns=columns)\nneighborhoods_venues_sorted['Neighborhood'] = toronto_grouped['Neighborhood']\n\nfor ind in np.arange(toronto_grouped.shape[0]):\n    neighborhoods_venues_sorted.iloc[ind, 1:] = return_most_common_venues(toronto_grouped.iloc[ind, :], num_top_venues)\n\nneighborhoods_venues_sorted.head()"
        },
        {
            "cell_type": "code",
            "execution_count": null,
            "metadata": {},
            "outputs": [
                {
                    "data": {
                        "text/plain": "array([0, 0, 0, 0, 0, 4, 0, 0, 0, 0], dtype=int32)"
                    },
                    "execution_count": 31,
                    "metadata": {},
                    "output_type": "execute_result"
                }
            ],
            "source": "# set number of clusters\nkclusters = 5\n\ntoronto_grouped_clustering = toronto_grouped.drop('Neighborhood', 1)\n\n# run k-means clustering\nkmeans = KMeans(n_clusters=kclusters, random_state=0).fit(toronto_grouped_clustering)\n\n# check cluster labels generated for each row in the dataframe\nkmeans.labels_[0:10]"
        },
        {
            "cell_type": "code",
            "execution_count": null,
            "metadata": {},
            "outputs": [
                {
                    "data": {
                        "text/html": "<div>\n<style scoped>\n    .dataframe tbody tr th:only-of-type {\n        vertical-align: middle;\n    }\n\n    .dataframe tbody tr th {\n        vertical-align: top;\n    }\n\n    .dataframe thead th {\n        text-align: right;\n    }\n</style>\n<table border=\"1\" class=\"dataframe\">\n  <thead>\n    <tr style=\"text-align: right;\">\n      <th></th>\n      <th>Postalcode</th>\n      <th>Borough</th>\n      <th>Neighborhood</th>\n      <th>Latitude</th>\n      <th>Longitude</th>\n      <th>Cluster Labels</th>\n      <th>1st Most Common Venue</th>\n      <th>2nd Most Common Venue</th>\n      <th>3rd Most Common Venue</th>\n      <th>4th Most Common Venue</th>\n      <th>5th Most Common Venue</th>\n      <th>6th Most Common Venue</th>\n      <th>7th Most Common Venue</th>\n      <th>8th Most Common Venue</th>\n      <th>9th Most Common Venue</th>\n      <th>10th Most Common Venue</th>\n    </tr>\n  </thead>\n  <tbody>\n    <tr>\n      <th>37</th>\n      <td>M4E</td>\n      <td>East Toronto</td>\n      <td>The Beaches</td>\n      <td>43.676357</td>\n      <td>-79.293031</td>\n      <td>0</td>\n      <td>Trail</td>\n      <td>Health Food Store</td>\n      <td>Pub</td>\n      <td>Yoga Studio</td>\n      <td>Diner</td>\n      <td>Discount Store</td>\n      <td>Distribution Center</td>\n      <td>Dog Run</td>\n      <td>Doner Restaurant</td>\n      <td>Donut Shop</td>\n    </tr>\n    <tr>\n      <th>41</th>\n      <td>M4K</td>\n      <td>East Toronto</td>\n      <td>The Danforth West, Riverdale</td>\n      <td>43.679557</td>\n      <td>-79.352188</td>\n      <td>0</td>\n      <td>Greek Restaurant</td>\n      <td>Italian Restaurant</td>\n      <td>Coffee Shop</td>\n      <td>Bookstore</td>\n      <td>Restaurant</td>\n      <td>Ice Cream Shop</td>\n      <td>Furniture / Home Store</td>\n      <td>Yoga Studio</td>\n      <td>Bubble Tea Shop</td>\n      <td>Spa</td>\n    </tr>\n    <tr>\n      <th>42</th>\n      <td>M4L</td>\n      <td>East Toronto</td>\n      <td>India Bazaar, The Beaches West</td>\n      <td>43.668999</td>\n      <td>-79.315572</td>\n      <td>0</td>\n      <td>Sandwich Place</td>\n      <td>Fast Food Restaurant</td>\n      <td>Gym</td>\n      <td>Pet Store</td>\n      <td>Brewery</td>\n      <td>Burrito Place</td>\n      <td>Restaurant</td>\n      <td>Pub</td>\n      <td>Pizza Place</td>\n      <td>Movie Theater</td>\n    </tr>\n    <tr>\n      <th>43</th>\n      <td>M4M</td>\n      <td>East Toronto</td>\n      <td>Studio District</td>\n      <td>43.659526</td>\n      <td>-79.340923</td>\n      <td>0</td>\n      <td>Caf\u00e9</td>\n      <td>Coffee Shop</td>\n      <td>Brewery</td>\n      <td>Gastropub</td>\n      <td>Bakery</td>\n      <td>American Restaurant</td>\n      <td>Convenience Store</td>\n      <td>Seafood Restaurant</td>\n      <td>Sandwich Place</td>\n      <td>Cheese Shop</td>\n    </tr>\n    <tr>\n      <th>44</th>\n      <td>M4N</td>\n      <td>Central Toronto</td>\n      <td>Lawrence Park</td>\n      <td>43.728020</td>\n      <td>-79.388790</td>\n      <td>2</td>\n      <td>Park</td>\n      <td>Swim School</td>\n      <td>Bus Line</td>\n      <td>Farmers Market</td>\n      <td>Event Space</td>\n      <td>Ethiopian Restaurant</td>\n      <td>Electronics Store</td>\n      <td>Eastern European Restaurant</td>\n      <td>Dumpling Restaurant</td>\n      <td>Donut Shop</td>\n    </tr>\n  </tbody>\n</table>\n</div>",
                        "text/plain": "   Postalcode          Borough                    Neighborhood   Latitude  \\\n37        M4E     East Toronto                     The Beaches  43.676357   \n41        M4K     East Toronto    The Danforth West, Riverdale  43.679557   \n42        M4L     East Toronto  India Bazaar, The Beaches West  43.668999   \n43        M4M     East Toronto                 Studio District  43.659526   \n44        M4N  Central Toronto                   Lawrence Park  43.728020   \n\n    Longitude  Cluster Labels 1st Most Common Venue 2nd Most Common Venue  \\\n37 -79.293031               0                 Trail     Health Food Store   \n41 -79.352188               0      Greek Restaurant    Italian Restaurant   \n42 -79.315572               0        Sandwich Place  Fast Food Restaurant   \n43 -79.340923               0                  Caf\u00e9           Coffee Shop   \n44 -79.388790               2                  Park           Swim School   \n\n   3rd Most Common Venue 4th Most Common Venue 5th Most Common Venue  \\\n37                   Pub           Yoga Studio                 Diner   \n41           Coffee Shop             Bookstore            Restaurant   \n42                   Gym             Pet Store               Brewery   \n43               Brewery             Gastropub                Bakery   \n44              Bus Line        Farmers Market           Event Space   \n\n   6th Most Common Venue   7th Most Common Venue        8th Most Common Venue  \\\n37        Discount Store     Distribution Center                      Dog Run   \n41        Ice Cream Shop  Furniture / Home Store                  Yoga Studio   \n42         Burrito Place              Restaurant                          Pub   \n43   American Restaurant       Convenience Store           Seafood Restaurant   \n44  Ethiopian Restaurant       Electronics Store  Eastern European Restaurant   \n\n   9th Most Common Venue 10th Most Common Venue  \n37      Doner Restaurant             Donut Shop  \n41       Bubble Tea Shop                    Spa  \n42           Pizza Place          Movie Theater  \n43        Sandwich Place            Cheese Shop  \n44   Dumpling Restaurant             Donut Shop  "
                    },
                    "execution_count": 32,
                    "metadata": {},
                    "output_type": "execute_result"
                }
            ],
            "source": "neighborhoods_venues_sorted.insert(0, 'Cluster Labels', kmeans.labels_)\n\ntoronto_merged = toronto_data\n\n# merge toronto_grouped with toronto_data to add latitude/longitude for each neighborhood\ntoronto_merged = toronto_merged.join(neighborhoods_venues_sorted.set_index('Neighborhood'), on='Neighborhood')\n\ntoronto_merged.head()"
        },
        {
            "cell_type": "code",
            "execution_count": null,
            "metadata": {},
            "outputs": [
                {
                    "data": {
                        "text/html": "<div>\n<style scoped>\n    .dataframe tbody tr th:only-of-type {\n        vertical-align: middle;\n    }\n\n    .dataframe tbody tr th {\n        vertical-align: top;\n    }\n\n    .dataframe thead th {\n        text-align: right;\n    }\n</style>\n<table border=\"1\" class=\"dataframe\">\n  <thead>\n    <tr style=\"text-align: right;\">\n      <th></th>\n      <th>Cluster Labels</th>\n      <th>Neighborhood</th>\n      <th>1st Most Common Venue</th>\n      <th>2nd Most Common Venue</th>\n      <th>3rd Most Common Venue</th>\n      <th>4th Most Common Venue</th>\n      <th>5th Most Common Venue</th>\n      <th>6th Most Common Venue</th>\n      <th>7th Most Common Venue</th>\n      <th>8th Most Common Venue</th>\n      <th>9th Most Common Venue</th>\n      <th>10th Most Common Venue</th>\n    </tr>\n  </thead>\n  <tbody>\n    <tr>\n      <th>0</th>\n      <td>0</td>\n      <td>Berczy Park</td>\n      <td>Coffee Shop</td>\n      <td>Cocktail Bar</td>\n      <td>Cheese Shop</td>\n      <td>Beer Bar</td>\n      <td>Bakery</td>\n      <td>Seafood Restaurant</td>\n      <td>Restaurant</td>\n      <td>Caf\u00e9</td>\n      <td>Clothing Store</td>\n      <td>Irish Pub</td>\n    </tr>\n    <tr>\n      <th>1</th>\n      <td>0</td>\n      <td>Brockton, Parkdale Village, Exhibition Place</td>\n      <td>Caf\u00e9</td>\n      <td>Coffee Shop</td>\n      <td>Breakfast Spot</td>\n      <td>Bakery</td>\n      <td>Gym</td>\n      <td>Stadium</td>\n      <td>Burrito Place</td>\n      <td>Restaurant</td>\n      <td>Climbing Gym</td>\n      <td>Pet Store</td>\n    </tr>\n    <tr>\n      <th>2</th>\n      <td>0</td>\n      <td>Business reply mail Processing Centre, South C...</td>\n      <td>Yoga Studio</td>\n      <td>Auto Workshop</td>\n      <td>Park</td>\n      <td>Pizza Place</td>\n      <td>Restaurant</td>\n      <td>Butcher</td>\n      <td>Burrito Place</td>\n      <td>Skate Park</td>\n      <td>Brewery</td>\n      <td>Comic Shop</td>\n    </tr>\n    <tr>\n      <th>3</th>\n      <td>0</td>\n      <td>CN Tower, King and Spadina, Railway Lands, Har...</td>\n      <td>Airport Service</td>\n      <td>Airport Lounge</td>\n      <td>Airport Terminal</td>\n      <td>Rental Car Location</td>\n      <td>Harbor / Marina</td>\n      <td>Plane</td>\n      <td>Boat or Ferry</td>\n      <td>Boutique</td>\n      <td>Bar</td>\n      <td>Sculpture Garden</td>\n    </tr>\n    <tr>\n      <th>4</th>\n      <td>0</td>\n      <td>Central Bay Street</td>\n      <td>Coffee Shop</td>\n      <td>Caf\u00e9</td>\n      <td>Italian Restaurant</td>\n      <td>Sandwich Place</td>\n      <td>Japanese Restaurant</td>\n      <td>Department Store</td>\n      <td>Salad Place</td>\n      <td>Burger Joint</td>\n      <td>Bubble Tea Shop</td>\n      <td>Indian Restaurant</td>\n    </tr>\n  </tbody>\n</table>\n</div>",
                        "text/plain": "   Cluster Labels                                       Neighborhood  \\\n0               0                                        Berczy Park   \n1               0       Brockton, Parkdale Village, Exhibition Place   \n2               0  Business reply mail Processing Centre, South C...   \n3               0  CN Tower, King and Spadina, Railway Lands, Har...   \n4               0                                 Central Bay Street   \n\n  1st Most Common Venue 2nd Most Common Venue 3rd Most Common Venue  \\\n0           Coffee Shop          Cocktail Bar           Cheese Shop   \n1                  Caf\u00e9           Coffee Shop        Breakfast Spot   \n2           Yoga Studio         Auto Workshop                  Park   \n3       Airport Service        Airport Lounge      Airport Terminal   \n4           Coffee Shop                  Caf\u00e9    Italian Restaurant   \n\n  4th Most Common Venue 5th Most Common Venue 6th Most Common Venue  \\\n0              Beer Bar                Bakery    Seafood Restaurant   \n1                Bakery                   Gym               Stadium   \n2           Pizza Place            Restaurant               Butcher   \n3   Rental Car Location       Harbor / Marina                 Plane   \n4        Sandwich Place   Japanese Restaurant      Department Store   \n\n  7th Most Common Venue 8th Most Common Venue 9th Most Common Venue  \\\n0            Restaurant                  Caf\u00e9        Clothing Store   \n1         Burrito Place            Restaurant          Climbing Gym   \n2         Burrito Place            Skate Park               Brewery   \n3         Boat or Ferry              Boutique                   Bar   \n4           Salad Place          Burger Joint       Bubble Tea Shop   \n\n  10th Most Common Venue  \n0              Irish Pub  \n1              Pet Store  \n2             Comic Shop  \n3       Sculpture Garden  \n4      Indian Restaurant  "
                    },
                    "execution_count": 33,
                    "metadata": {},
                    "output_type": "execute_result"
                }
            ],
            "source": "neighborhoods_venues_sorted.head()"
        },
        {
            "cell_type": "code",
            "execution_count": null,
            "metadata": {},
            "outputs": [
                {
                    "name": "stdout",
                    "output_type": "stream",
                    "text": "The geograpical coordinate of Manhattan are 43.6534817, -79.3839347.\n"
                }
            ],
            "source": "address = 'Toronto, CA'\n\ngeolocator = Nominatim(user_agent=\"ny_explorer\")\nlocation = geolocator.geocode(address)\nlatitude = location.latitude\nlongitude = location.longitude\nprint('The geograpical coordinate of Manhattan are {}, {}.'.format(latitude, longitude))"
        },
        {
            "cell_type": "code",
            "execution_count": null,
            "metadata": {},
            "outputs": [],
            "source": "map_clusters = folium.Map(location=[latitude, longitude], zoom_start=11)\n\n# set color scheme for the clusters\nx = np.arange(kclusters)\nys = [i + x + (i*x)**2 for i in range(kclusters)]\ncolors_array = cm.rainbow(np.linspace(0, 1, len(ys)))\nrainbow = [colors.rgb2hex(i) for i in colors_array]\n\n# add markers to the map\nmarkers_colors = []\nfor lat, lon, poi, cluster in zip(toronto_merged['Latitude'], toronto_merged['Longitude'], toronto_merged['Neighborhood'], toronto_merged['Cluster Labels']):\n    label = folium.Popup(str(poi) + ' Cluster ' + str(cluster), parse_html=True)\n    folium.CircleMarker(\n        [lat, lon],\n        radius=5,\n        popup=label,\n        color=rainbow[cluster-1],\n        fill=True,\n        fill_color=rainbow[cluster-1],\n        fill_opacity=0.7).add_to(map_clusters)\n       \nmap_clusters"
        },
        {
            "cell_type": "code",
            "execution_count": null,
            "metadata": {},
            "outputs": [],
            "source": ""
        }
    ],
    "metadata": {
        "kernelspec": {
            "display_name": "Python 3.6",
            "language": "python",
            "name": "python3"
        },
        "language_info": {
            "codemirror_mode": {
                "name": "ipython",
                "version": 3
            },
            "file_extension": ".py",
            "mimetype": "text/x-python",
            "name": "python",
            "nbconvert_exporter": "python",
            "pygments_lexer": "ipython3",
            "version": "3.6.9"
        }
    },
    "nbformat": 4,
    "nbformat_minor": 1
}